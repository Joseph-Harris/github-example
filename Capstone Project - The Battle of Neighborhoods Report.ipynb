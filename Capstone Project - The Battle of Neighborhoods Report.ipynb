{
 "cells": [
  {
   "cell_type": "markdown",
   "metadata": {
    "collapsed": true
   },
   "source": [
    "# Capstone Project Report: The Battle of Neighborhoods"
   ]
  },
  {
   "cell_type": "markdown",
   "metadata": {},
   "source": [
    "## Introduction\n",
    "\n",
    "The purpose here is to help people to explore better areas in their neighboorhood, in this instance to the neighborhoods in Toranto.\n",
    "\n",
    "Graphs and tables will be shown in full at the Notebook: https://github.com/Joseph-Harris/github-example/blob/master/Battle%20of%20the%20Neighborhoods%20Notebook%20(1).ipynb\n",
    "\n",
    "Maps will be visible in the powerpoint presentation: https://youtu.be/jtsm9JRJgOE"
   ]
  },
  {
   "cell_type": "markdown",
   "metadata": {},
   "source": [
    "## Data\n",
    "\n",
    "\n",
    "This project shall use the Foursquare API as a gathering source.  Using the credentials of Foursquare limits us on the number of places per neighborhood parameter, set to 100, and radius parameter, set to 500.\n",
    "\n",
    "### These libraries will help develope the project\n",
    "\n",
    "Pandas: For creating and manipulating dataframes.\n",
    "\n",
    "Folium: Python visualization library would be used to visualize the neighborhoods cluster distribution of using interactive leaflet map.\n",
    "\n",
    "Scikit Learn: For importing k-means clustering.\n",
    "\n",
    "JSON: Library to handle JSON files.\n",
    "\n",
    "XML: To separate data from presentation and XML stores data in plain text format.\n",
    "\n",
    "Geocoder: To retrieve Location Data.\n",
    "\n",
    "Beautiful Soup and Requests: To scrap and library to handle http requests.\n",
    "\n",
    "Matplotlib: Python Plotting Module."
   ]
  },
  {
   "cell_type": "markdown",
   "metadata": {},
   "source": [
    "# Data Description:\n",
    "Data Link: https://en.wikipedia.org/wiki/List_of_postal_codes_of_Canada:_M\n",
    "\n",
    "We'll use the dataset from week 3 wikipedia project. The dataset consisting of latitude and longitude, zip codes.\n",
    "\n",
    "The data gathered from Foursquare will have the information of venues within a specified distance of the latitude and longitude of the neighborhood postcodes.  The information that will be gathered:\n",
    "\n",
    "1. Neighborhood\n",
    "2. Neighborhood Latitude\n",
    "3. Neighborhood Longitude\n",
    "4. Venue\n",
    "5. Name of the venue\n",
    "6. Venue Latitude\n",
    "7. Venue Longitude\n",
    "8. Venue Category\n",
    "\n",
    "### Map of Scarborough"
   ]
  },
  {
   "cell_type": "markdown",
   "metadata": {},
   "source": [
    "The map of Scarborough Toronto can be viewed in the powerpoint presentation."
   ]
  },
  {
   "cell_type": "markdown",
   "metadata": {},
   "source": [
    "## Methodology\n",
    "\n",
    "### Clustering\n",
    "\n",
    "For this project we explored the neighborhoods, segnebted them, and group them into clusters, which we gathered the cluster data using the Kmeans clustering alogrithm.\n",
    "\n",
    "### K-Means Clustering\n",
    "\n",
    "Using Kmeans we got:\n",
    "\n",
    "array([0, 0, 0, 1, 0, 0, 0, 0, 0, 0, 1, 0, 0, 0, 0, 0, 0, 0, 0, 0, 0, 0,\n",
    "       0, 0, 0, 0, 0, 0, 0, 0, 0, 0, 0, 0, 0, 1, 0, 1, 0, 2, 0, 0, 0, 0,\n",
    "       0, 0, 0, 0, 0, 0, 1, 0, 0, 1, 1, 1, 0, 0, 0, 0, 0, 0, 1, 0, 0, 0,\n",
    "       1, 0, 1, 0, 0, 0, 0, 0, 0, 0, 0, 0, 0, 0, 0, 0, 0, 0, 0, 0, 0, 0,\n",
    "       0, 0, 0, 0, 1, 2, 0, 0, 1], dtype=int32)\n",
    "       \n",
    "Kmeans table can be viewed in the notebook.\n",
    "\n",
    "### Common venues in or near neighborhood\n",
    "\n",
    "Table of common venues near neighborhood can be viewed in the notebook."
   ]
  },
  {
   "cell_type": "markdown",
   "metadata": {},
   "source": [
    "## Results Section\n",
    "\n",
    "### Map Clusters\n",
    "\n",
    "Image of the Map Clusters found on the Powerpoint.\n",
    "\n",
    "### Average Housing Price\n",
    "\n",
    "Image of the graph in full found in the notebook.\n",
    "\n",
    "### School Ratings\n",
    "\n",
    "Image of the graph in full found in the notebook.\n",
    "\n",
    "### Location\n",
    "Scarborough appears to be a popular location, resulting in a wide variety of venues in Toronto.\n",
    "\n",
    "### Foursquare:\n",
    "As mentioned in the Data section, this project uses Foursquare API to gather data as it contains the data of several million places."
   ]
  },
  {
   "cell_type": "markdown",
   "metadata": {},
   "source": [
    "## Discussion Section\n",
    "\n",
    "Problem:\n",
    "Our client is looking to move in to Toronto so our goal is to suggest the most beneficial neighborhood for them. Most beneficial being social presence, closeness to airport, bus stop, markets, and other daily necessities near.\n",
    "\n",
    "1. List of house sorted in terms of housing prices in a ascending or descending order\n",
    "2. List of schools sorted in terms of location, fees, rating and reviews"
   ]
  },
  {
   "cell_type": "markdown",
   "metadata": {},
   "source": [
    "## Conclusion Section"
   ]
  },
  {
   "attachments": {},
   "cell_type": "markdown",
   "metadata": {},
   "source": [
    "In conclusion, using k-means cluster algorithm we have separated the neighborhood into ten different clusters for 103 different latitude and longitude from the dataset, which contain similar neighborhoods around them. Using the above charts, we end up with a specific neighborhood based on average house prices and school rating have been made."
   ]
  },
  {
   "cell_type": "code",
   "execution_count": null,
   "metadata": {},
   "outputs": [],
   "source": []
  }
 ],
 "metadata": {
  "kernelspec": {
   "display_name": "Python 3.6",
   "language": "python",
   "name": "python3"
  },
  "language_info": {
   "codemirror_mode": {
    "name": "ipython",
    "version": 3
   },
   "file_extension": ".py",
   "mimetype": "text/x-python",
   "name": "python",
   "nbconvert_exporter": "python",
   "pygments_lexer": "ipython3",
   "version": "3.6.9"
  }
 },
 "nbformat": 4,
 "nbformat_minor": 1
}
